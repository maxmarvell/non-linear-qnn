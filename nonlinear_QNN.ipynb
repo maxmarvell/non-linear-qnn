{
  "nbformat": 4,
  "nbformat_minor": 0,
  "metadata": {
    "colab": {
      "provenance": [],
      "collapsed_sections": [
        "OJyB7uObwtL4",
        "H5CjQksDXttk",
        "ctE1m45b35GP"
      ]
    },
    "kernelspec": {
      "name": "python3",
      "display_name": "Python 3"
    },
    "language_info": {
      "name": "python"
    }
  },
  "cells": [
    {
      "cell_type": "markdown",
      "source": [
        "#Evaluating the ability of a quantum artificial neural network to approximate any arbitrary non-linear multi-variate function"
      ],
      "metadata": {
        "id": "9mxSvaH86Iel"
      }
    },
    {
      "cell_type": "markdown",
      "source": [
        "##Background"
      ],
      "metadata": {
        "id": "92aVq_w66JQM"
      }
    },
    {
      "cell_type": "markdown",
      "source": [
        "We begin by asking why is it so pertinent that we even try implement the behaviour of a neural network, and thus a perceptron, on a quantum device? To answer that question we introduce two key aspects that make a quantum device attractive and highlight where exactly this could benefit the field of machine learning.\n",
        "\n",
        "*   The way data is represented on quantum device can be far more efficent than a classical device. In that, by encoding the data as an amplitude of a bitstring......\n",
        "*   NOBODY CARES\n",
        "\n",
        "YADA YADA fill rest in here---\n",
        "\n",
        "points to be made discuss:\n",
        "\n",
        "*   why a quantum device is attractive\n",
        "*   NISQ\n",
        "*   Variational method - classical and quantum\n",
        "*   Nonlinearity\n",
        "*   Satisifies universal function approximation in the exponential circuit depth limit\n"
      ],
      "metadata": {
        "id": "PQamR7Ld7EYf"
      }
    },
    {
      "cell_type": "markdown",
      "source": [
        "##Selection of Datasets"
      ],
      "metadata": {
        "id": "tdQ8Eo0C55HQ"
      }
    },
    {
      "cell_type": "markdown",
      "source": [
        "As previously discussed the number of features of the dataset can affect the ability of the variational quantum circuit to approximate any arbitrary multivariate function. Here we select a couple of models and retrieve some benchmark results, using classical neural network techniques, for the expected loss function at different epochs."
      ],
      "metadata": {
        "id": "aTR8kA0U_Ymu"
      }
    },
    {
      "cell_type": "markdown",
      "source": [
        "First we want to asses the ability of the QNN to approximate a non-linear regression model. As this only has one feature we expect that the QNN will give a poor aproximation.\n",
        "\n",
        "Before we do this lets import all the necessary libraries to run all the models classically."
      ],
      "metadata": {
        "id": "I6B8fp0_BC5t"
      }
    },
    {
      "cell_type": "code",
      "source": [
        "import torch\n",
        "import random\n",
        "import torch.nn as nn\n",
        "import torch.optim as optim\n",
        "import numpy as np\n",
        "import pandas as pd\n",
        "import matplotlib.pyplot as plt\n",
        "from sklearn.model_selection import train_test_split\n",
        "from sklearn.model_selection import train_test_split\n",
        "from sklearn.preprocessing import OneHotEncoder, OrdinalEncoder, StandardScaler\n",
        "from sklearn.metrics import f1_score\n",
        "from sklearn.metrics import confusion_matrix, ConfusionMatrixDisplay\n",
        "from sklearn.compose import ColumnTransformer\n",
        "from sklearn.pipeline import Pipeline\n",
        "from sklearn import metrics\n",
        "from sklearn.metrics import confusion_matrix\n",
        "from sklearn.metrics import roc_curve\n",
        "from sklearn.metrics import accuracy_score"
      ],
      "metadata": {
        "id": "gsipZ3mGw0wU"
      },
      "execution_count": 3,
      "outputs": []
    },
    {
      "cell_type": "code",
      "source": [
        "from google.colab import drive\n",
        "drive.mount('/content/drive')"
      ],
      "metadata": {
        "colab": {
          "base_uri": "https://localhost:8080/"
        },
        "id": "sd3EpW13wzH-",
        "outputId": "d9d9f08d-4e87-48b8-beb6-9632972489c2"
      },
      "execution_count": 4,
      "outputs": [
        {
          "output_type": "stream",
          "name": "stdout",
          "text": [
            "Drive already mounted at /content/drive; to attempt to forcibly remount, call drive.mount(\"/content/drive\", force_remount=True).\n"
          ]
        }
      ]
    },
    {
      "cell_type": "markdown",
      "source": [
        "### Cleveland Model"
      ],
      "metadata": {
        "id": "OJyB7uObwtL4"
      }
    },
    {
      "cell_type": "markdown",
      "source": [
        "####Load and Pre-Process the Data"
      ],
      "metadata": {
        "id": "IKhOzJ2rwiX5"
      }
    },
    {
      "cell_type": "code",
      "source": [
        "# Load and preprocess the data\n",
        "data = pd.read_csv(\"/content/drive/MyDrive/dataset/Cleveland Dataset.csv\")\n",
        "X = data.drop(columns=[\"target\"])\n",
        "y = data[\"target\"]"
      ],
      "metadata": {
        "id": "sglBNZJWBT3o"
      },
      "execution_count": 5,
      "outputs": []
    },
    {
      "cell_type": "code",
      "source": [
        "X_train, X_test, y_train, y_test = train_test_split(X, y, test_size=0.20, random_state=42)"
      ],
      "metadata": {
        "id": "rfpo62Jiv1rz"
      },
      "execution_count": 6,
      "outputs": []
    },
    {
      "cell_type": "code",
      "source": [
        "categorical_headers = ['ca','sex','fbs','restecg','cp','thal','exang','slope']\n",
        "numeric_headers = ['age','trestbps','chol','thalach','oldpeak']\n",
        "\n",
        "X_cat = data[categorical_headers]\n",
        "X_num = data[numeric_headers]\n",
        "\n",
        "scalerOHE = OneHotEncoder(sparse_output=False)\n",
        "scalerSS = StandardScaler()\n",
        "\n",
        "transformer = ColumnTransformer(\n",
        "    transformers=[\n",
        "        ('cat', scalerOHE, categorical_headers),\n",
        "        ('num', scalerSS, numeric_headers),\n",
        "])\n",
        "\n",
        "X_train_std = transformer.fit_transform(X_train)\n",
        "X_test_std = transformer.transform(X_test)"
      ],
      "metadata": {
        "id": "mOirNFsiyWle"
      },
      "execution_count": 7,
      "outputs": []
    },
    {
      "cell_type": "code",
      "source": [
        "n_features = X_train_std.shape[1]"
      ],
      "metadata": {
        "id": "b8kmHxs90ZO_"
      },
      "execution_count": 8,
      "outputs": []
    },
    {
      "cell_type": "markdown",
      "source": [
        "####Autoencoder"
      ],
      "metadata": {
        "id": "xU7XZHXZwunz"
      }
    },
    {
      "cell_type": "code",
      "source": [
        "class Autoencoder(nn.Module):\n",
        "    def __init__(self, input_size, bneck_size):\n",
        "\n",
        "        super(Autoencoder, self).__init__()\n",
        "        self.encoder = nn.Sequential(\n",
        "            nn.Linear(input_size,32),\n",
        "            nn.ReLU(),\n",
        "            nn.Linear(32, bneck_size),\n",
        "        )\n",
        "        self.decoder = nn.Sequential(\n",
        "            nn.Linear(bneck_size, 32),\n",
        "            nn.ReLU(),\n",
        "            nn.Linear(32,input_size),\n",
        "            # nn.Sigmoid()\n",
        "        )\n",
        "\n",
        "    def forward(self, x):\n",
        "        encoded = self.encoder(x)\n",
        "        decoded = self.decoder(encoded)\n",
        "        return decoded"
      ],
      "metadata": {
        "id": "Xm1qYjsUw71L"
      },
      "execution_count": 9,
      "outputs": []
    },
    {
      "cell_type": "code",
      "source": [
        "BOTTLENECK_SIZE = 9\n",
        "SEED = 42\n",
        "LEARNING_RATE = 0.001"
      ],
      "metadata": {
        "id": "lH_Dk91xxD42"
      },
      "execution_count": 10,
      "outputs": []
    },
    {
      "cell_type": "code",
      "source": [
        "np.random.seed(SEED)\n",
        "torch.manual_seed(SEED)\n",
        "random.seed(SEED)\n",
        "\n",
        "# Initialize the autoencoder and define the loss function and optimizer\n",
        "autoencoder = Autoencoder(n_features, BOTTLENECK_SIZE)\n",
        "\n",
        "criterion = nn.MSELoss()\n",
        "\n",
        "optimizer = optim.Adam(autoencoder.parameters(), lr=LEARNING_RATE)\n",
        "\n",
        "# Train the model\n",
        "num_epochs = 700\n",
        "batch_size = 16\n",
        "for epoch in range(num_epochs):\n",
        "    loss_tot=0\n",
        "    for i in range(0, len(X_train_std), batch_size):\n",
        "        # Get the batch\n",
        "        batch_X = torch.FloatTensor(X_train_std[i:i+batch_size])\n",
        "        optimizer.zero_grad(set_to_none=True)\n",
        "\n",
        "        # Forward pass\n",
        "        outputs = autoencoder(batch_X)\n",
        "        loss =  criterion(outputs, batch_X)\n",
        "\n",
        "        # Backward pass and optimization\n",
        "        loss.backward()\n",
        "        optimizer.step()\n",
        "        loss_tot += loss.item()*(len(batch_X))\n",
        "\n",
        "    loss_tot=loss_tot/len(X_train_std)\n",
        "    # Print the loss every 10 epochs\n",
        "    if (epoch+1) % 100 == 0:\n",
        "        print('Epoch [{}/{}], Loss: {:.4f}'.format(epoch+1, num_epochs, loss_tot))"
      ],
      "metadata": {
        "colab": {
          "base_uri": "https://localhost:8080/"
        },
        "id": "raPhcNRBy0qS",
        "outputId": "26aa00ed-a37b-40d5-82e4-9bd92062d6ef"
      },
      "execution_count": 11,
      "outputs": [
        {
          "output_type": "stream",
          "name": "stdout",
          "text": [
            "Epoch [100/700], Loss: 0.0519\n",
            "Epoch [200/700], Loss: 0.0433\n",
            "Epoch [300/700], Loss: 0.0412\n",
            "Epoch [400/700], Loss: 0.0401\n",
            "Epoch [500/700], Loss: 0.0389\n",
            "Epoch [600/700], Loss: 0.0378\n",
            "Epoch [700/700], Loss: 0.0371\n"
          ]
        }
      ]
    },
    {
      "cell_type": "code",
      "source": [
        "encoded_data_train = autoencoder.encoder(torch.from_numpy(X_train_std).float()).detach().numpy()\n",
        "encoded_data_test = autoencoder.encoder(torch.from_numpy(X_test_std).float()).detach().numpy()"
      ],
      "metadata": {
        "id": "9YLL4jp-y8xj"
      },
      "execution_count": 12,
      "outputs": []
    },
    {
      "cell_type": "markdown",
      "source": [
        "###Insurance"
      ],
      "metadata": {
        "id": "y-O66lz-9xAn"
      }
    },
    {
      "cell_type": "markdown",
      "source": [
        "####Load Data + Train Test Split"
      ],
      "metadata": {
        "id": "H5CjQksDXttk"
      }
    },
    {
      "cell_type": "code",
      "source": [
        "# Load and preprocess the data\n",
        "ins_df = pd.read_csv(\"/content/drive/MyDrive/dataset/insurance.csv\")\n",
        "X = ins_df.drop(columns=[\"charges\"])\n",
        "y = ins_df[\"charges\"]"
      ],
      "metadata": {
        "id": "0Dbk8_TcEkBA"
      },
      "execution_count": 17,
      "outputs": []
    },
    {
      "cell_type": "code",
      "source": [
        "X_train, X_test, y_train, y_test = train_test_split(X, y, test_size=0.20, random_state=42)"
      ],
      "metadata": {
        "id": "9hQ1sOULjPZ3"
      },
      "execution_count": 18,
      "outputs": []
    },
    {
      "cell_type": "code",
      "source": [
        "categorical_headers = ['sex','smoker','region','children']\n",
        "numeric_headers = ['age','bmi']\n",
        "\n",
        "X_cat = ins_df[categorical_headers]\n",
        "X_num = ins_df[numeric_headers]\n",
        "\n",
        "scalerOHE = OneHotEncoder(sparse_output=False)\n",
        "scalerSS = StandardScaler()\n",
        "\n",
        "transformer = ColumnTransformer(\n",
        "    transformers=[\n",
        "        ('cat', scalerOHE, categorical_headers),\n",
        "        ('num', scalerSS, numeric_headers),\n",
        "])\n",
        "\n",
        "X_train_std = transformer.fit_transform(X_train)\n",
        "X_test_std = transformer.transform(X_test)"
      ],
      "metadata": {
        "id": "Rz0Z2nSNL2nU"
      },
      "execution_count": 19,
      "outputs": []
    },
    {
      "cell_type": "code",
      "source": [
        "n_features = X_train_std.shape[1]"
      ],
      "metadata": {
        "id": "fINfpeSwxIZm"
      },
      "execution_count": 137,
      "outputs": []
    },
    {
      "cell_type": "markdown",
      "source": [
        "####Autoencoder"
      ],
      "metadata": {
        "id": "oJGt7IQaX4Ek"
      }
    },
    {
      "cell_type": "code",
      "source": [
        "class Autoencoder(nn.Module):\n",
        "    def __init__(self, input_size, bneck_size):\n",
        "\n",
        "        super(Autoencoder, self).__init__()\n",
        "        self.encoder = nn.Sequential(\n",
        "            nn.Linear(input_size,32),\n",
        "            nn.ReLU(),\n",
        "            nn.Linear(32, bneck_size),\n",
        "        )\n",
        "        self.decoder = nn.Sequential(\n",
        "            nn.Linear(bneck_size, 32),\n",
        "            nn.ReLU(),\n",
        "            nn.Linear(32,input_size),\n",
        "            # nn.Sigmoid()\n",
        "        )\n",
        "\n",
        "    def forward(self, x):\n",
        "        encoded = self.encoder(x)\n",
        "        decoded = self.decoder(encoded)\n",
        "        return decoded"
      ],
      "metadata": {
        "id": "FBLLPJBOx-2y"
      },
      "execution_count": 22,
      "outputs": []
    },
    {
      "cell_type": "code",
      "source": [
        "BOTTLENECK_SIZE = 7\n",
        "SEED = 42\n",
        "LEARNING_RATE = 0.001"
      ],
      "metadata": {
        "id": "4StTsBKE1D4T"
      },
      "execution_count": 10,
      "outputs": []
    },
    {
      "cell_type": "code",
      "source": [
        "np.random.seed(SEED)\n",
        "torch.manual_seed(SEED)\n",
        "random.seed(SEED)\n",
        "\n",
        "# Initialize the autoencoder and define the loss function and optimizer\n",
        "autoencoder = Autoencoder(n_features, BOTTLENECK_SIZE)\n",
        "\n",
        "criterion = nn.MSELoss()\n",
        "\n",
        "optimizer = optim.Adam(autoencoder.parameters(), lr=LEARNING_RATE)\n",
        "\n",
        "# Train the model\n",
        "num_epochs = 700\n",
        "batch_size = 16\n",
        "for epoch in range(num_epochs):\n",
        "    loss_tot=0\n",
        "    for i in range(0, len(X_train_std), batch_size):\n",
        "        # Get the batch\n",
        "        batch_X = torch.FloatTensor(X_train_std[i:i+batch_size])\n",
        "        optimizer.zero_grad(set_to_none=True)\n",
        "\n",
        "        # Forward pass\n",
        "        outputs = autoencoder(batch_X)\n",
        "        loss =  criterion(outputs, batch_X)\n",
        "\n",
        "        # Backward pass and optimization\n",
        "        loss.backward()\n",
        "        optimizer.step()\n",
        "        loss_tot += loss.item()*(len(batch_X))\n",
        "\n",
        "    loss_tot=loss_tot/len(X_train_std)\n",
        "    # Print the loss every 10 epochs\n",
        "    if (epoch+1) % 100 == 0:\n",
        "        print('Epoch [{}/{}], Loss: {:.4f}'.format(epoch+1, num_epochs, loss_tot))"
      ],
      "metadata": {
        "colab": {
          "base_uri": "https://localhost:8080/"
        },
        "id": "3jTMtd1QwyMc",
        "outputId": "d87ee60c-a9e1-416c-a352-fbb23d6c25bc"
      },
      "execution_count": 23,
      "outputs": [
        {
          "output_type": "stream",
          "name": "stdout",
          "text": [
            "Epoch [100/700], Loss: 0.0101\n",
            "Epoch [200/700], Loss: 0.0032\n",
            "Epoch [300/700], Loss: 0.0018\n",
            "Epoch [400/700], Loss: 0.0012\n",
            "Epoch [500/700], Loss: 0.0008\n",
            "Epoch [600/700], Loss: 0.0007\n",
            "Epoch [700/700], Loss: 0.0006\n"
          ]
        }
      ]
    },
    {
      "cell_type": "code",
      "source": [
        "encoded_data_train = autoencoder.encoder(torch.from_numpy(X_train_std).float()).detach().numpy()\n",
        "encoded_data_test = autoencoder.encoder(torch.from_numpy(X_test_std).float()).detach().numpy()\n",
        "encoded_data_train.shape"
      ],
      "metadata": {
        "colab": {
          "base_uri": "https://localhost:8080/"
        },
        "id": "BsdZgBf307K9",
        "outputId": "b44c5406-2df1-459d-dd53-88b3ab5fac5c"
      },
      "execution_count": 24,
      "outputs": [
        {
          "output_type": "execute_result",
          "data": {
            "text/plain": [
              "(1070, 7)"
            ]
          },
          "metadata": {},
          "execution_count": 24
        }
      ]
    },
    {
      "cell_type": "markdown",
      "source": [
        "# Quantum Artificial Neuron"
      ],
      "metadata": {
        "id": "ctE1m45b35GP"
      }
    },
    {
      "cell_type": "code",
      "source": [
        "%%capture\n",
        "try:\n",
        "    import pennylane as qml\n",
        "except:\n",
        "    !pip install pennylane==0.29.1\n",
        "import pennylane as qml\n",
        "import jax\n",
        "import jax.numpy as jnp\n",
        "import numpy as np\n",
        "import optax"
      ],
      "metadata": {
        "id": "TnpBgWWUQt08"
      },
      "execution_count": 28,
      "outputs": []
    },
    {
      "cell_type": "code",
      "source": [
        "def embedding(x, wires):\n",
        "    wires = list(wires)\n",
        "    qml.templates.AngleEmbedding(x, wires=wires)\n",
        "\n",
        "def entanglement(wires):\n",
        "    N = len(wires)\n",
        "\n",
        "    # circular entanglement chosen\n",
        "    for i in range(N-1):\n",
        "        qml.CNOT(wires=[wires[i], wires[i + 1]])\n",
        "    qml.CNOT(wires=[wires[N-1], wires[0]])\n",
        "\n",
        "\n",
        "def hardware_efficient_ansatz(theta, wires):\n",
        "    N = len(wires)\n",
        "\n",
        "    assert len(theta) == 3 * N\n",
        "    for i in range(N):\n",
        "        qml.RX(theta[3 * i], wires=wires[i])\n",
        "    entanglement(wires)\n",
        "    for i in range(N):\n",
        "        qml.RZ(theta[3 * i + 1], wires=wires[i])\n",
        "    entanglement(wires)\n",
        "    for i in range(N):\n",
        "        qml.RX(theta[3 * i + 2], wires=wires[i])\n",
        "    entanglement(wires)"
      ],
      "metadata": {
        "id": "6O4pFfENQ8oT"
      },
      "execution_count": 20,
      "outputs": []
    },
    {
      "cell_type": "code",
      "source": [
        "def get_ansatz(n_qubits):\n",
        "    return hardware_efficient_ansatz, 3 * n_qubits"
      ],
      "metadata": {
        "id": "8tANUXLyRDXU"
      },
      "execution_count": 21,
      "outputs": []
    },
    {
      "cell_type": "code",
      "source": [
        "def create_circuit(n_qubits,backend,layers,ansatz,ibm_device=None, ibm_token=None):\n",
        "    if backend == 'jax':\n",
        "        device = qml.device(\"default.qubit.jax\", wires=n_qubits)\n",
        "    elif backend == 'ibmq':\n",
        "        device = qml.device('qiskit.ibmq', wires=n_qubits, backend=ibm_device,\n",
        "                            ibmqx_token=ibm_token, hub=IBM_QISKIT_HUB,\n",
        "                            group=IBM_QISKIT_GROUP, project=IBM_QISKIT_PROJECT)\n",
        "    else:\n",
        "        raise ValueError(f\"Backend {backend} is unknown\")\n",
        "    ansatz, params_per_layer = get_ansatz(n_qubits)\n",
        "\n",
        "    @qml.qnode(device, interface='jax')\n",
        "    def circuit(x, theta):\n",
        "\n",
        "        embedding(x, wires=range(n_qubits))\n",
        "        for i in range(layers):\n",
        "            #embedding(x, wires=range(n_qubits))\n",
        "            ansatz(theta[i * params_per_layer: (i + 1) * params_per_layer], wires=range(n_qubits))\n",
        "        return [qml.expval(qml.PauliZ(wires=0)),qml.expval(qml.PauliZ(wires=1))]\n",
        "\n",
        "    return jax.jit(circuit)#"
      ],
      "metadata": {
        "id": "h_fBq-XNRGe5"
      },
      "execution_count": 22,
      "outputs": []
    },
    {
      "cell_type": "code",
      "source": [
        "def get_thetas(params):\n",
        "    def jnp_to_np(value):\n",
        "        try:\n",
        "            value_numpy = np.array(value)\n",
        "            return value_numpy\n",
        "        except:\n",
        "            try:\n",
        "                value_numpy = np.array(value.primal)\n",
        "                return value_numpy\n",
        "            except:\n",
        "                try:\n",
        "                    value_numpy = np.array(value.primal.aval)\n",
        "                    return value_numpy\n",
        "                except:\n",
        "                    raise ValueError(f\"Cannot convert to numpy value {value}\")\n",
        "\n",
        "    return jnp_to_np(params)"
      ],
      "metadata": {
        "id": "-e4kB0-rRLf2"
      },
      "execution_count": 23,
      "outputs": []
    },
    {
      "cell_type": "code",
      "source": [
        "@jax.jit\n",
        "def cross_entropy_loss(y_true, y_pred):\n",
        "    print(y_true.shape,y_pred.shape)\n",
        "    return -jnp.mean(jnp.sum(jnp.log(y_pred) * y_true, axis=1))\n",
        "\n",
        "@jax.jit\n",
        "def rmse(y_true, y_pred):\n",
        "    return jnp.sqrt(jnp.mean(jnp.square(y_true - y_pred)))\n",
        "\n",
        "@jax.jit\n",
        "def calculate_ce_cost(X, y, theta):\n",
        "    yp = qnn(X, theta)\n",
        "    yp = jax.nn.softmax(yp)\n",
        "\n",
        "    cost = cross_entropy_loss(y, yp)\n",
        "    #cost = rmse(y, yp)\n",
        "    return cost"
      ],
      "metadata": {
        "id": "QUe7LrjNRO3O"
      },
      "execution_count": 24,
      "outputs": []
    },
    {
      "cell_type": "code",
      "source": [
        "@jax.jit\n",
        "def calculate_accuracy(X, y, theta):\n",
        "    yp = qnn(X, theta)\n",
        "    yp = jax.nn.softmax(yp)\n",
        "    yp = jnp.argmax(yp, axis=1)\n",
        "    y = jnp.argmax(y, axis=1)\n",
        "    total_samples = len(y)\n",
        "    correct = jnp.sum(y==yp)\n",
        "    acc = correct/total_samples\n",
        "\n",
        "    return acc"
      ],
      "metadata": {
        "id": "JlYLXtL4RPRS"
      },
      "execution_count": 25,
      "outputs": []
    },
    {
      "cell_type": "code",
      "source": [
        "n_qubits = BOTTLENECK_SIZE\n",
        "print(f\"Using {n_qubits} qubits\")\n",
        "\n",
        "# backend\n",
        "backend = 'jax'\n",
        "\n",
        "# layers\n",
        "layers = 8\n",
        "\n",
        "# varform\n",
        "varform = 'hardware_efficient'\n",
        "\n",
        "#varform = 'ltfim'\n",
        "\n",
        "# quantum circuit\n",
        "qnn_tmp = create_circuit(n_qubits, backend, layers, varform)\n",
        "\n",
        "# apply vmap on x (first circuit param)\n",
        "qnn_batched = jax.vmap(qnn_tmp, (0, None))\n",
        "\n",
        "# Jit for faster execution\n",
        "qnn = jax.jit(qnn_batched)\n",
        "\n",
        "# optimizer\n",
        "optimizer = optax.adam(learning_rate=0.04)\n",
        "\n",
        "runs = 10\n",
        "epochs = 100"
      ],
      "metadata": {
        "colab": {
          "base_uri": "https://localhost:8080/"
        },
        "id": "sxvYqPZbRV9L",
        "outputId": "333725db-5184-44c5-f253-880569d36441"
      },
      "execution_count": 26,
      "outputs": [
        {
          "output_type": "stream",
          "name": "stdout",
          "text": [
            "Using 7 qubits\n"
          ]
        }
      ]
    },
    {
      "cell_type": "code",
      "source": [
        "# Optimization update step\n",
        "@jax.jit\n",
        "def optimizer_update(opt_state, params, x, y):\n",
        "    loss, grads = jax.value_and_grad(lambda theta: calculate_ce_cost(x, y, theta))(params)\n",
        "    updates, opt_state = optimizer.update(grads, opt_state)\n",
        "    params = optax.apply_updates(params, updates)\n",
        "    return params, opt_state, loss"
      ],
      "metadata": {
        "id": "vCD2FNzeRf_D"
      },
      "execution_count": 39,
      "outputs": []
    },
    {
      "cell_type": "code",
      "source": [
        "# scalerY = OneHotEncoder(sparse_output=False)\n",
        "# y_train_ohe = scalerY.fit_transform(y_train.values.reshape(-1,1))\n",
        "# y_test_ohe = scalerY.transform(y_test)\n",
        "\n",
        "# y_train_ohe=y_train_ohe.reshape(-1,2)\n",
        "# y_test_ohe=y_test_ohe.reshape(-1,2)"
      ],
      "metadata": {
        "id": "Z46D8OGp5pZm"
      },
      "execution_count": 29,
      "outputs": []
    },
    {
      "cell_type": "code",
      "source": [
        "scaler = StandardScaler()\n",
        "y_train_std = scaler.fit_transform(y_train.values.reshape(-1, 1))\n",
        "y_test_std = scaler.fit_transform(y_train.values.reshape(-1, 1))\n",
        "\n",
        "# .values.reshape(-1, 1)\n",
        "\n",
        "y_train_std"
      ],
      "metadata": {
        "colab": {
          "base_uri": "https://localhost:8080/"
        },
        "id": "Xw4HwrPo8J7X",
        "outputId": "81ad3255-25c4-4ed6-ae32-5e0ecdff2209"
      },
      "execution_count": 61,
      "outputs": [
        {
          "output_type": "execute_result",
          "data": {
            "text/plain": [
              "array([[-0.3456208 ],\n",
              "       [-0.40048783],\n",
              "       [ 1.14633152],\n",
              "       ...,\n",
              "       [-0.11777735],\n",
              "       [ 2.72746075],\n",
              "       [-0.26065271]])"
            ]
          },
          "metadata": {},
          "execution_count": 61
        }
      ]
    },
    {
      "cell_type": "code",
      "source": [
        "from sklearn.metrics import accuracy_score\n",
        "\n",
        "\n",
        "loss = np.zeros(runs)\n",
        "f1 = np.zeros(runs)\n",
        "\n",
        "test_acc = np.zeros(runs)\n",
        "train_acc = np.zeros(runs)\n",
        "\n",
        "for i in range(runs):\n",
        "\n",
        "    print(f'run {i}\\n')\n",
        "\n",
        "    # seed\n",
        "    key = jax.random.PRNGKey(i)\n",
        "\n",
        "    # get number of circuit params\n",
        "    _, params_per_layer = get_ansatz(n_qubits)\n",
        "\n",
        "     # initialize circuit params\n",
        "    initial_params = jax.random.normal(key, shape=(layers * params_per_layer,))\n",
        "    #initial_params = jax.random.uniform(key, shape=(layers * params_per_layer,))\n",
        "    params = jnp.copy(initial_params)\n",
        "\n",
        "    # initialize optimizer\n",
        "    opt_state = optimizer.init(initial_params)\n",
        "\n",
        "    ##### fit #####\n",
        "    for epoch in range(epochs):\n",
        "        params, opt_state, cost = optimizer_update(opt_state, params, encoded_data, y_train_std)\n",
        "        if epoch % 5 == 0:\n",
        "            print(f'epoch: {epoch} - cost: {cost}')\n",
        "\n",
        "    # save training time\n",
        "    #save_dir = full_model_working_dir\n",
        "    #os.makedirs(save_dir,  0o755,  exist_ok=True)\n",
        "    #np.save(str(save_dir) + f\"/time_training_{i}.npy\",end_time_tr)\n",
        "\n",
        "    # save parameters\n",
        "    #thetas = get_thetas(params)\n",
        "    #np.save(str(save_dir) + f\"/thetas_{i}.npy\", thetas)\n",
        "\n",
        "\n",
        "    y_predict = qnn(encoded_data, params)\n",
        "    y_predict = jax.nn.softmax(y_predict)\n",
        "    y_predict = jnp.argmax(y_predict, axis=1)\n",
        "    accuracy_score(y_train_std,y_predict)\n",
        "    print(f'Accuracy of fullmodel on training set: {accuracy_score(y_train_std,y_predict)}\\n')\n",
        "    train_acc[i] = accuracy_score(y_train_std,y_predict)\n",
        "\n",
        "    y_predict = qnn(encoded_data_test, params)\n",
        "    y_predict = jax.nn.softmax(y_predict)\n",
        "    # print(f'Cross entropy loss on test set: {cross_entropy_loss(y_test_ohe,y_predict)}')\n",
        "    # loss[i] = cross_entropy_loss(y_test_ohe,y_predict)\n",
        "\n",
        "    #print(f'MSE loss on test set: {rmse(y_test_ohe,y_predict)}')\n",
        "    #loss[i] = rmse(y_test_ohe,y_predict)\n",
        "    y_predict = jnp.argmax(y_predict, axis=1)\n",
        "    #np.save(str(save_dir) + f\"/time_test_{i}.npy\",end_time_ts)\n",
        "\n",
        "    # save predictions\n",
        "    #np.save(str(save_dir) + f\"/y_predict_{i}.npy\", y_predict)\n",
        "    print(f'Accuracy of fullmodel on test set: {accuracy_score(y_test_std,y_predict)}\\n')\n",
        "    test_acc[i] = accuracy_score(y_test_std,y_predict)\n",
        "    f1[i]=f1_score(y_test_std, y_predict)"
      ],
      "metadata": {
        "colab": {
          "base_uri": "https://localhost:8080/",
          "height": 0
        },
        "id": "88PLY6s8RhAx",
        "outputId": "025f809d-d074-41a2-bd3c-e3d9a5561b10"
      },
      "execution_count": 62,
      "outputs": [
        {
          "output_type": "stream",
          "name": "stdout",
          "text": [
            "run 0\n",
            "\n",
            "epoch: 0 - cost: -8.950991468736902e-05\n",
            "epoch: 5 - cost: -0.012902406044304371\n",
            "epoch: 10 - cost: -0.022578969597816467\n",
            "epoch: 15 - cost: -0.027482006698846817\n",
            "epoch: 20 - cost: -0.030448144301772118\n",
            "epoch: 25 - cost: -0.033090293407440186\n",
            "epoch: 30 - cost: -0.035200830549001694\n",
            "epoch: 35 - cost: -0.037129100412130356\n",
            "epoch: 40 - cost: -0.03809389844536781\n",
            "epoch: 45 - cost: -0.03899216651916504\n",
            "epoch: 50 - cost: -0.03974692523479462\n",
            "epoch: 55 - cost: -0.040211353451013565\n",
            "epoch: 60 - cost: -0.040670834481716156\n",
            "epoch: 65 - cost: -0.04111037775874138\n",
            "epoch: 70 - cost: -0.041695572435855865\n",
            "epoch: 75 - cost: -0.04235554113984108\n",
            "epoch: 80 - cost: -0.042607713490724564\n",
            "epoch: 85 - cost: -0.04282226786017418\n",
            "epoch: 90 - cost: -0.04310515895485878\n",
            "epoch: 95 - cost: -0.04341292008757591\n"
          ]
        },
        {
          "output_type": "error",
          "ename": "ValueError",
          "evalue": "ignored",
          "traceback": [
            "\u001b[0;31m---------------------------------------------------------------------------\u001b[0m",
            "\u001b[0;31mValueError\u001b[0m                                Traceback (most recent call last)",
            "\u001b[0;32m<ipython-input-62-54a91bc13327>\u001b[0m in \u001b[0;36m<cell line: 10>\u001b[0;34m()\u001b[0m\n\u001b[1;32m     45\u001b[0m     \u001b[0my_predict\u001b[0m \u001b[0;34m=\u001b[0m \u001b[0mjax\u001b[0m\u001b[0;34m.\u001b[0m\u001b[0mnn\u001b[0m\u001b[0;34m.\u001b[0m\u001b[0msoftmax\u001b[0m\u001b[0;34m(\u001b[0m\u001b[0my_predict\u001b[0m\u001b[0;34m)\u001b[0m\u001b[0;34m\u001b[0m\u001b[0;34m\u001b[0m\u001b[0m\n\u001b[1;32m     46\u001b[0m     \u001b[0my_predict\u001b[0m \u001b[0;34m=\u001b[0m \u001b[0mjnp\u001b[0m\u001b[0;34m.\u001b[0m\u001b[0margmax\u001b[0m\u001b[0;34m(\u001b[0m\u001b[0my_predict\u001b[0m\u001b[0;34m,\u001b[0m \u001b[0maxis\u001b[0m\u001b[0;34m=\u001b[0m\u001b[0;36m1\u001b[0m\u001b[0;34m)\u001b[0m\u001b[0;34m\u001b[0m\u001b[0;34m\u001b[0m\u001b[0m\n\u001b[0;32m---> 47\u001b[0;31m     \u001b[0maccuracy_score\u001b[0m\u001b[0;34m(\u001b[0m\u001b[0my_train_std\u001b[0m\u001b[0;34m,\u001b[0m\u001b[0my_predict\u001b[0m\u001b[0;34m)\u001b[0m\u001b[0;34m\u001b[0m\u001b[0;34m\u001b[0m\u001b[0m\n\u001b[0m\u001b[1;32m     48\u001b[0m     \u001b[0mprint\u001b[0m\u001b[0;34m(\u001b[0m\u001b[0;34mf'Accuracy of fullmodel on training set: {accuracy_score(y_train_std,y_predict)}\\n'\u001b[0m\u001b[0;34m)\u001b[0m\u001b[0;34m\u001b[0m\u001b[0;34m\u001b[0m\u001b[0m\n\u001b[1;32m     49\u001b[0m     \u001b[0mtrain_acc\u001b[0m\u001b[0;34m[\u001b[0m\u001b[0mi\u001b[0m\u001b[0;34m]\u001b[0m \u001b[0;34m=\u001b[0m \u001b[0maccuracy_score\u001b[0m\u001b[0;34m(\u001b[0m\u001b[0my_train_std\u001b[0m\u001b[0;34m,\u001b[0m\u001b[0my_predict\u001b[0m\u001b[0;34m)\u001b[0m\u001b[0;34m\u001b[0m\u001b[0;34m\u001b[0m\u001b[0m\n",
            "\u001b[0;32m/usr/local/lib/python3.10/dist-packages/sklearn/utils/_param_validation.py\u001b[0m in \u001b[0;36mwrapper\u001b[0;34m(*args, **kwargs)\u001b[0m\n\u001b[1;32m    190\u001b[0m \u001b[0;34m\u001b[0m\u001b[0m\n\u001b[1;32m    191\u001b[0m             \u001b[0;32mtry\u001b[0m\u001b[0;34m:\u001b[0m\u001b[0;34m\u001b[0m\u001b[0;34m\u001b[0m\u001b[0m\n\u001b[0;32m--> 192\u001b[0;31m                 \u001b[0;32mreturn\u001b[0m \u001b[0mfunc\u001b[0m\u001b[0;34m(\u001b[0m\u001b[0;34m*\u001b[0m\u001b[0margs\u001b[0m\u001b[0;34m,\u001b[0m \u001b[0;34m**\u001b[0m\u001b[0mkwargs\u001b[0m\u001b[0;34m)\u001b[0m\u001b[0;34m\u001b[0m\u001b[0;34m\u001b[0m\u001b[0m\n\u001b[0m\u001b[1;32m    193\u001b[0m             \u001b[0;32mexcept\u001b[0m \u001b[0mInvalidParameterError\u001b[0m \u001b[0;32mas\u001b[0m \u001b[0me\u001b[0m\u001b[0;34m:\u001b[0m\u001b[0;34m\u001b[0m\u001b[0;34m\u001b[0m\u001b[0m\n\u001b[1;32m    194\u001b[0m                 \u001b[0;31m# When the function is just a wrapper around an estimator, we allow\u001b[0m\u001b[0;34m\u001b[0m\u001b[0;34m\u001b[0m\u001b[0m\n",
            "\u001b[0;32m/usr/local/lib/python3.10/dist-packages/sklearn/metrics/_classification.py\u001b[0m in \u001b[0;36maccuracy_score\u001b[0;34m(y_true, y_pred, normalize, sample_weight)\u001b[0m\n\u001b[1;32m    219\u001b[0m \u001b[0;34m\u001b[0m\u001b[0m\n\u001b[1;32m    220\u001b[0m     \u001b[0;31m# Compute accuracy for each possible representation\u001b[0m\u001b[0;34m\u001b[0m\u001b[0;34m\u001b[0m\u001b[0m\n\u001b[0;32m--> 221\u001b[0;31m     \u001b[0my_type\u001b[0m\u001b[0;34m,\u001b[0m \u001b[0my_true\u001b[0m\u001b[0;34m,\u001b[0m \u001b[0my_pred\u001b[0m \u001b[0;34m=\u001b[0m \u001b[0m_check_targets\u001b[0m\u001b[0;34m(\u001b[0m\u001b[0my_true\u001b[0m\u001b[0;34m,\u001b[0m \u001b[0my_pred\u001b[0m\u001b[0;34m)\u001b[0m\u001b[0;34m\u001b[0m\u001b[0;34m\u001b[0m\u001b[0m\n\u001b[0m\u001b[1;32m    222\u001b[0m     \u001b[0mcheck_consistent_length\u001b[0m\u001b[0;34m(\u001b[0m\u001b[0my_true\u001b[0m\u001b[0;34m,\u001b[0m \u001b[0my_pred\u001b[0m\u001b[0;34m,\u001b[0m \u001b[0msample_weight\u001b[0m\u001b[0;34m)\u001b[0m\u001b[0;34m\u001b[0m\u001b[0;34m\u001b[0m\u001b[0m\n\u001b[1;32m    223\u001b[0m     \u001b[0;32mif\u001b[0m \u001b[0my_type\u001b[0m\u001b[0;34m.\u001b[0m\u001b[0mstartswith\u001b[0m\u001b[0;34m(\u001b[0m\u001b[0;34m\"multilabel\"\u001b[0m\u001b[0;34m)\u001b[0m\u001b[0;34m:\u001b[0m\u001b[0;34m\u001b[0m\u001b[0;34m\u001b[0m\u001b[0m\n",
            "\u001b[0;32m/usr/local/lib/python3.10/dist-packages/sklearn/metrics/_classification.py\u001b[0m in \u001b[0;36m_check_targets\u001b[0;34m(y_true, y_pred)\u001b[0m\n\u001b[1;32m     93\u001b[0m \u001b[0;34m\u001b[0m\u001b[0m\n\u001b[1;32m     94\u001b[0m     \u001b[0;32mif\u001b[0m \u001b[0mlen\u001b[0m\u001b[0;34m(\u001b[0m\u001b[0my_type\u001b[0m\u001b[0;34m)\u001b[0m \u001b[0;34m>\u001b[0m \u001b[0;36m1\u001b[0m\u001b[0;34m:\u001b[0m\u001b[0;34m\u001b[0m\u001b[0;34m\u001b[0m\u001b[0m\n\u001b[0;32m---> 95\u001b[0;31m         raise ValueError(\n\u001b[0m\u001b[1;32m     96\u001b[0m             \"Classification metrics can't handle a mix of {0} and {1} targets\".format(\n\u001b[1;32m     97\u001b[0m                 \u001b[0mtype_true\u001b[0m\u001b[0;34m,\u001b[0m \u001b[0mtype_pred\u001b[0m\u001b[0;34m\u001b[0m\u001b[0;34m\u001b[0m\u001b[0m\n",
            "\u001b[0;31mValueError\u001b[0m: Classification metrics can't handle a mix of continuous and binary targets"
          ]
        }
      ]
    },
    {
      "cell_type": "code",
      "source": [
        "y_predict\n"
      ],
      "metadata": {
        "id": "IxRZDioiRm_o",
        "colab": {
          "base_uri": "https://localhost:8080/"
        },
        "outputId": "f0b105a3-f816-4846-be0e-cc83fc7172f5"
      },
      "execution_count": 64,
      "outputs": [
        {
          "output_type": "execute_result",
          "data": {
            "text/plain": [
              "Array([0, 0, 0, ..., 0, 0, 0], dtype=int32)"
            ]
          },
          "metadata": {},
          "execution_count": 64
        }
      ]
    },
    {
      "cell_type": "markdown",
      "source": [
        "# TESTS"
      ],
      "metadata": {
        "id": "mjhrT9Q8E22u"
      }
    },
    {
      "cell_type": "code",
      "source": [
        "scaler = StandardScaler()\n",
        "encoded_target_train = scaler.fit_transform(y_train.values.reshape(-1, 1))\n",
        "encoded_target_test = scaler.fit_transform(y_train.values.reshape(-1, 1))"
      ],
      "metadata": {
        "id": "l8UJN-2O_uw1"
      },
      "execution_count": 25,
      "outputs": []
    },
    {
      "cell_type": "code",
      "source": [
        "n_features = encoded_data_train.shape[1]\n",
        "layers = 8"
      ],
      "metadata": {
        "id": "woZ7YTWZF85p"
      },
      "execution_count": 26,
      "outputs": []
    },
    {
      "cell_type": "code",
      "source": [
        "dev = qml.device('default.qubit', wires=n_features+1)"
      ],
      "metadata": {
        "id": "z06H3hBgFK5y"
      },
      "execution_count": 82,
      "outputs": []
    },
    {
      "cell_type": "code",
      "source": [
        "@qml.qnode(dev, interface='jax')\n",
        "def qnn(inputs, weights, n_features, layers):\n",
        "\n",
        "    assert len(weights) == len(n_features*layers), f\"Expected weights of dimension {len(n_features*layers)} got {len(weights)}\"\n",
        "\n",
        "    qml.templates.AngleEmbedding(inputs, wires=range(n_features))\n",
        "    for i in range(layers):\n",
        "      qml.templates.BasicEntanglerLayers(weights[i*layers:(i+n_features)*layers], wires=range(n_features))\n",
        "      qml.templates.AngleEmbedding(inputs, wires=range(n_features))\n",
        "\n",
        "    return [qml.expval(qml.PauliZ(i)) for i in range(n_features)]"
      ],
      "metadata": {
        "id": "vQo7Gx6yE9lB"
      },
      "execution_count": 30,
      "outputs": []
    },
    {
      "cell_type": "code",
      "source": [
        "key = jax.random.PRNGKey(i)\n",
        "weights = jax.random.normal(key, shape=(layers,n_features))"
      ],
      "metadata": {
        "id": "0UAOcAzCFu0Z"
      },
      "execution_count": 83,
      "outputs": []
    },
    {
      "cell_type": "code",
      "source": [
        "def create_circuit(n_features,layers):\n",
        "\n",
        "    @qml.qnode(dev,interface='jax')\n",
        "    def qnn(inputs,weights):\n",
        "        # assert weights.shape == (layers,3,n_features), f\"Expected weights of dimension {n_features*layers} got {len(weights)}\"\n",
        "\n",
        "        qml.Hadamard(wires=[n_features])\n",
        "        for i in range(n_features):\n",
        "            qml.CNOT(wires=[n_features,i])\n",
        "\n",
        "        qml.templates.AngleEmbedding(inputs, wires=range(n_features))\n",
        "        for i in range(layers):\n",
        "          qml.templates.BasicEntanglerLayers(weights[i*layers:(i+n_features)*layers], wires=range(n_features))\n",
        "          qml.templates.AngleEmbedding(inputs, wires=range(n_features))\n",
        "\n",
        "        for i in range(n_features):\n",
        "            qml.CNOT(wires=[n_features,i])\n",
        "        qml.Hadamard(wires=[n_features])\n",
        "\n",
        "        return [qml.expval(qml.PauliZ(n_features))]\n",
        "\n",
        "    return jax.jit(qnn)"
      ],
      "metadata": {
        "id": "3Bll1eUlJcfn"
      },
      "execution_count": 84,
      "outputs": []
    },
    {
      "cell_type": "code",
      "source": [
        "qnn = create_circuit(n_features,layers)\n",
        "qnn_batched = jax.vmap(qnn, (0, None))\n",
        "qnn = jax.jit(qnn_batched)\n",
        "# optimizer = optax.adam(learning_rate=0.04)"
      ],
      "metadata": {
        "id": "FF6LWF7EKo0Q"
      },
      "execution_count": 85,
      "outputs": []
    },
    {
      "cell_type": "code",
      "source": [
        "weights.shape"
      ],
      "metadata": {
        "colab": {
          "base_uri": "https://localhost:8080/"
        },
        "id": "dwFgYw2LTfiR",
        "outputId": "7a524b97-8967-42ec-9878-5e96737d7c88"
      },
      "execution_count": 34,
      "outputs": [
        {
          "output_type": "execute_result",
          "data": {
            "text/plain": [
              "(8, 7)"
            ]
          },
          "metadata": {},
          "execution_count": 34
        }
      ]
    },
    {
      "cell_type": "code",
      "source": [
        "yp = qnn(encoded_data_train,weights)"
      ],
      "metadata": {
        "colab": {
          "base_uri": "https://localhost:8080/"
        },
        "id": "8v6e4C9zLjGj",
        "outputId": "9cb88efb-35bd-4892-a850-3b4eed348850"
      },
      "execution_count": 86,
      "outputs": [
        {
          "output_type": "execute_result",
          "data": {
            "text/plain": [
              "Array([1.1920929e-07], dtype=float32)"
            ]
          },
          "metadata": {},
          "execution_count": 86
        }
      ]
    },
    {
      "cell_type": "code",
      "source": [
        "reshaped = yp.reshape(-1,)\n",
        "plt.scatter(range(len(reshaped)),jax.nn.softmax(reshaped))\n",
        "sum(jax.nn.softmax(reshaped))"
      ],
      "metadata": {
        "colab": {
          "base_uri": "https://localhost:8080/",
          "height": 462
        },
        "id": "A4DCz_8ve8I8",
        "outputId": "16344c95-9611-4f76-a1ea-81e0e27f5a5e"
      },
      "execution_count": 113,
      "outputs": [
        {
          "output_type": "execute_result",
          "data": {
            "text/plain": [
              "Array(1.0000099, dtype=float32)"
            ]
          },
          "metadata": {},
          "execution_count": 113
        },
        {
          "output_type": "display_data",
          "data": {
            "text/plain": [
              "<Figure size 640x480 with 1 Axes>"
            ],
            "image/png": "[encoded data removed]"
          },
          "metadata": {}
        }
      ]
    },
    {
      "cell_type": "code",
      "source": [
        "yp = jax.nn.softmax(yp)\n",
        "ytarget = jax.nn.softmax(y_train.values)\n",
        "# plt.plot(range(len(ytarget)),ytarget)\n",
        "# plt.plot(range(len(yp)),yp)\n",
        "# plt.plot(range(len(ytarget)),ytarget)\n",
        "# plt.scatter(range(len(y_train.values)),y_train.values)\n",
        "# plt.scatter(range(len(ytarget)),ytarget)\n",
        "ypt = encoded_target_train.reshape(1070)\n",
        "ypt = jax.nn.softmax(ypt)\n",
        "plt.scatter(range(len(ypt)),ypt)"
      ],
      "metadata": {
        "colab": {
          "base_uri": "https://localhost:8080/",
          "height": 447
        },
        "id": "MmFLEXQgYzAV",
        "outputId": "73161929-363a-4607-af66-2464acc536f9"
      },
      "execution_count": 72,
      "outputs": [
        {
          "output_type": "execute_result",
          "data": {
            "text/plain": [
              "<matplotlib.collections.PathCollection at 0x7be1b8152890>"
            ]
          },
          "metadata": {},
          "execution_count": 72
        },
        {
          "output_type": "display_data",
          "data": {
            "text/plain": [
              "<Figure size 640x480 with 1 Axes>"
            ],
            "image/png": "[encoded data removed]"
          },
          "metadata": {}
        }
      ]
    },
    {
      "cell_type": "code",
      "source": [
        "@jax.jit\n",
        "def cross_entropy_loss(y_true, y_pred):\n",
        "    return -jnp.mean(jnp.sum(jnp.log(y_pred) * y_true, axis=1))\n",
        "\n",
        "@jax.jit\n",
        "def calculate_ce_cost(X, y, weights):\n",
        "    yp = qnn(X, weights)\n",
        "    yp = jax.nn.softmax(yp)\n",
        "    cost = cross_entropy_loss(y, yp)\n",
        "    return cost\n",
        "\n",
        "\n",
        "@jax.jit\n",
        "def rmse(y_true, y_pred):\n",
        "    return jnp.sqrt(jnp.mean(jnp.square(y_true - y_pred)))\n",
        "\n",
        "\n",
        "@jax.jit\n",
        "def fun_eval(output):\n",
        "    return jnp.square(output)"
      ],
      "metadata": {
        "id": "L8V77JCECmf3"
      },
      "execution_count": 114,
      "outputs": []
    },
    {
      "cell_type": "code",
      "source": [
        "# plt.scatter(range(len(reshaped)),rmse(reshaped,ypt))\n",
        "rmse(reshaped,ypt)"
      ],
      "metadata": {
        "colab": {
          "base_uri": "https://localhost:8080/"
        },
        "id": "DXJGL1Y9P-MJ",
        "outputId": "4f344b5f-31ab-4adc-982d-b63419cf2ed4"
      },
      "execution_count": 102,
      "outputs": [
        {
          "output_type": "execute_result",
          "data": {
            "text/plain": [
              "Array(0.00215042, dtype=float32)"
            ]
          },
          "metadata": {},
          "execution_count": 102
        }
      ]
    },
    {
      "cell_type": "code",
      "source": [
        "@jax.jit\n",
        "def calculate_ce_cost(X, y, theta):\n",
        "    yp = qnn(X, theta)\n",
        "    yp = jax.nn.softmax(yp)\n",
        "    return rmse(y, yp)\n",
        "\n",
        "\n",
        "@jax.jit\n",
        "def optimizer_update(opt_state, weights, X, y):\n",
        "    loss, grads = jax.value_and_grad(lambda theta: calculate_ce_cost(X, y, theta))(weights)\n",
        "    updates, opt_state = optimizer.update(grads, opt_state)\n",
        "    weights = optax.apply_updates(weights, updates)\n",
        "    return weights, opt_state, loss"
      ],
      "metadata": {
        "id": "Yru0Vq1_CyeD"
      },
      "execution_count": 115,
      "outputs": []
    },
    {
      "cell_type": "code",
      "source": [
        "import optax\n",
        "optimizer = optax.adam(learning_rate=1)"
      ],
      "metadata": {
        "id": "zjLjp7BqkQ3l"
      },
      "execution_count": 120,
      "outputs": []
    },
    {
      "cell_type": "code",
      "source": [
        "key = jax.random.PRNGKey(i)\n",
        "weights = jax.random.uniform(key, shape=(layers,n_features))\n",
        "opt_state = optimizer.init(weights)\n",
        "\n",
        "epochs = 100\n",
        "for epoch in range(epochs):\n",
        "        weights, opt_state, cost = optimizer_update(opt_state, weights, encoded_data_train, ypt)\n",
        "        if epoch % 5 == 0:\n",
        "            print(f'epoch: {epoch} - cost: {cost}')"
      ],
      "metadata": {
        "colab": {
          "base_uri": "https://localhost:8080/",
          "height": 315
        },
        "id": "nflKVOjMkUmJ",
        "outputId": "3d4bcbfa-a061-43bb-aebf-6cd430be6a53"
      },
      "execution_count": 123,
      "outputs": [
        {
          "output_type": "stream",
          "name": "stdout",
          "text": [
            "epoch: 0 - cost: 0.9990671873092651\n",
            "epoch: 5 - cost: 0.9990671873092651\n"
          ]
        },
        {
          "output_type": "error",
          "ename": "KeyboardInterrupt",
          "evalue": "ignored",
          "traceback": [
            "\u001b[0;31m---------------------------------------------------------------------------\u001b[0m",
            "\u001b[0;31mKeyboardInterrupt\u001b[0m                         Traceback (most recent call last)",
            "\u001b[0;32m<ipython-input-123-b236d9c2b4a5>\u001b[0m in \u001b[0;36m<cell line: 6>\u001b[0;34m()\u001b[0m\n\u001b[1;32m      5\u001b[0m \u001b[0mepochs\u001b[0m \u001b[0;34m=\u001b[0m \u001b[0;36m100\u001b[0m\u001b[0;34m\u001b[0m\u001b[0;34m\u001b[0m\u001b[0m\n\u001b[1;32m      6\u001b[0m \u001b[0;32mfor\u001b[0m \u001b[0mepoch\u001b[0m \u001b[0;32min\u001b[0m \u001b[0mrange\u001b[0m\u001b[0;34m(\u001b[0m\u001b[0mepochs\u001b[0m\u001b[0;34m)\u001b[0m\u001b[0;34m:\u001b[0m\u001b[0;34m\u001b[0m\u001b[0;34m\u001b[0m\u001b[0m\n\u001b[0;32m----> 7\u001b[0;31m         \u001b[0mweights\u001b[0m\u001b[0;34m,\u001b[0m \u001b[0mopt_state\u001b[0m\u001b[0;34m,\u001b[0m \u001b[0mcost\u001b[0m \u001b[0;34m=\u001b[0m \u001b[0moptimizer_update\u001b[0m\u001b[0;34m(\u001b[0m\u001b[0mopt_state\u001b[0m\u001b[0;34m,\u001b[0m \u001b[0mweights\u001b[0m\u001b[0;34m,\u001b[0m \u001b[0mencoded_data_train\u001b[0m\u001b[0;34m,\u001b[0m \u001b[0mypt\u001b[0m\u001b[0;34m)\u001b[0m\u001b[0;34m\u001b[0m\u001b[0;34m\u001b[0m\u001b[0m\n\u001b[0m\u001b[1;32m      8\u001b[0m         \u001b[0;32mif\u001b[0m \u001b[0mepoch\u001b[0m \u001b[0;34m%\u001b[0m \u001b[0;36m5\u001b[0m \u001b[0;34m==\u001b[0m \u001b[0;36m0\u001b[0m\u001b[0;34m:\u001b[0m\u001b[0;34m\u001b[0m\u001b[0;34m\u001b[0m\u001b[0m\n\u001b[1;32m      9\u001b[0m             \u001b[0mprint\u001b[0m\u001b[0;34m(\u001b[0m\u001b[0;34mf'epoch: {epoch} - cost: {cost}'\u001b[0m\u001b[0;34m)\u001b[0m\u001b[0;34m\u001b[0m\u001b[0;34m\u001b[0m\u001b[0m\n",
            "\u001b[0;32m<string>\u001b[0m in \u001b[0;36m<lambda>\u001b[0;34m(_cls, count, mu, nu)\u001b[0m\n",
            "\u001b[0;31mKeyboardInterrupt\u001b[0m: "
          ]
        }
      ]
    },
    {
      "cell_type": "code",
      "source": [
        "loss, grads = jax.value_and_grad(lambda theta: calculate_ce_cost(encoded_data_train, ypt, theta))(weights)\n",
        "loss, grads"
      ],
      "metadata": {
        "id": "s0Ws_b5AtzgA",
        "outputId": "3bf0928d-b2f0-49b1-b424-2d8f2e6f1fe8",
        "colab": {
          "base_uri": "https://localhost:8080/"
        }
      },
      "execution_count": 122,
      "outputs": [
        {
          "output_type": "execute_result",
          "data": {
            "text/plain": [
              "(Array(0.9990672, dtype=float32),\n",
              " Array([[0., 0., 0., 0., 0., 0., 0.],\n",
              "        [0., 0., 0., 0., 0., 0., 0.],\n",
              "        [0., 0., 0., 0., 0., 0., 0.],\n",
              "        [0., 0., 0., 0., 0., 0., 0.],\n",
              "        [0., 0., 0., 0., 0., 0., 0.],\n",
              "        [0., 0., 0., 0., 0., 0., 0.],\n",
              "        [0., 0., 0., 0., 0., 0., 0.],\n",
              "        [0., 0., 0., 0., 0., 0., 0.]], dtype=float32))"
            ]
          },
          "metadata": {},
          "execution_count": 122
        }
      ]
    },
    {
      "cell_type": "code",
      "source": [
        "weights"
      ],
      "metadata": {
        "id": "L3IN8gnGubQb",
        "outputId": "83ea1e47-491a-4f2e-d762-f195e2272e4f",
        "colab": {
          "base_uri": "https://localhost:8080/"
        }
      },
      "execution_count": 124,
      "outputs": [
        {
          "output_type": "execute_result",
          "data": {
            "text/plain": [
              "Array([[0.6067487 , 0.5098423 , 0.8208926 , 0.3054459 , 0.35616386,\n",
              "        0.8490741 , 0.8852092 ],\n",
              "       [0.10852587, 0.99138594, 0.35130632, 0.59133375, 0.71588385,\n",
              "        0.8396833 , 0.84017086],\n",
              "       [0.7399347 , 0.22453916, 0.92689335, 0.5208353 , 0.16784   ,\n",
              "        0.71321297, 0.7632791 ],\n",
              "       [0.24437714, 0.6780133 , 0.271039  , 0.9839368 , 0.4462105 ,\n",
              "        0.38293052, 0.5799098 ],\n",
              "       [0.89299667, 0.77564955, 0.07950079, 0.44836605, 0.24711609,\n",
              "        0.7635157 , 0.03121758],\n",
              "       [0.14479446, 0.99642694, 0.39408767, 0.6768013 , 0.15402198,\n",
              "        0.68222034, 0.48238766],\n",
              "       [0.6405988 , 0.0984478 , 0.8683504 , 0.70545757, 0.33602226,\n",
              "        0.5458468 , 0.2110138 ],\n",
              "       [0.9009726 , 0.79367065, 0.82090724, 0.5622426 , 0.4536947 ,\n",
              "        0.70816123, 0.49820268]], dtype=float32)"
            ]
          },
          "metadata": {},
          "execution_count": 124
        }
      ]
    },
    {
      "cell_type": "markdown",
      "source": [
        "#TEST 2"
      ],
      "metadata": {
        "id": "BMpsppPVuoUy"
      }
    },
    {
      "cell_type": "code",
      "source": [
        "%%capture\n",
        "try:\n",
        "    import pennylane as qml\n",
        "except:\n",
        "    !pip install pennylane==0.29.1\n",
        "import pennylane as qml\n",
        "import jax\n",
        "import jax.numpy as jnp\n",
        "import numpy as np\n",
        "import optax"
      ],
      "metadata": {
        "id": "AJTBvBCxurrm"
      },
      "execution_count": 13,
      "outputs": []
    },
    {
      "cell_type": "code",
      "source": [
        "LAYERS = 8\n",
        "DEV = qml.device(\"default.qubit.jax\", wires=n_features)"
      ],
      "metadata": {
        "id": "huh712xPx4_0"
      },
      "execution_count": null,
      "outputs": []
    },
    {
      "cell_type": "code",
      "source": [
        "def create_circuit(n_features,layers):\n",
        "\n",
        "    @qml.qnode(DEV,interface='jax')\n",
        "    def qnn(inputs,weights):\n",
        "        # assert weights.shape == (layers,3,n_features), f\"Expected weights of dimension {n_features*layers} got {len(weights)}\"\n",
        "\n",
        "        # qml.Hadamard(wires=[n_features])\n",
        "        # for i in range(n_features):\n",
        "        #     qml.CNOT(wires=[n_features,i])\n",
        "\n",
        "        qml.templates.AngleEmbedding(inputs, wires=range(n_features))\n",
        "        for i in range(layers):\n",
        "          qml.templates.BasicEntanglerLayers(weights[i*layers:(i+n_features)*layers], wires=range(n_features))\n",
        "          qml.templates.AngleEmbedding(inputs, wires=range(n_features))\n",
        "\n",
        "        # for i in range(n_features):\n",
        "        #     qml.CNOT(wires=[n_features,i])\n",
        "        # qml.Hadamard(wires=[n_features])\n",
        "\n",
        "        return [qml.expval(qml.PauliZ(wires=0)),qml.expval(qml.PauliZ(wires=1))]\n",
        "\n",
        "    return jax.jit(qnn)"
      ],
      "metadata": {
        "id": "AvxLAXuWxy9j"
      },
      "execution_count": 151,
      "outputs": []
    },
    {
      "cell_type": "code",
      "source": [],
      "metadata": {
        "id": "k-MIr2gj1Cd_"
      },
      "execution_count": null,
      "outputs": []
    }
  ]
}